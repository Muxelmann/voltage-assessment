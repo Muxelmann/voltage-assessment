{
 "cells": [
  {
   "cell_type": "code",
   "execution_count": null,
   "metadata": {
    "collapsed": true
   },
   "outputs": [],
   "source": [
    "import os\n",
    "import numpy as np\n",
    "from _tools import load_data\n",
    "from _tools import DSSClass\n",
    "\n",
    "from matplotlib import pyplot as plt\n",
    "%matplotlib inline"
   ]
  },
  {
   "cell_type": "code",
   "execution_count": null,
   "metadata": {
    "collapsed": true
   },
   "outputs": [],
   "source": [
    "pwd = os.path.dirname(os.path.realpath('python'))\n",
    "os.chdir(pwd)\n",
    "master_path = os.path.abspath(os.path.join(pwd, '../LVTestCase/Master.dss'))\n",
    "data_path = os.path.abspath(os.path.join(pwd, '../Daily_1min_100profiles'))\n",
    "data = load_data(data_path)\n",
    "\n",
    "dss = DSSClass(master_path)\n",
    "dss.set_load_shapes(data, True)\n",
    "os.chdir(pwd)\n",
    "\n",
    "dss.solve()"
   ]
  },
  {
   "cell_type": "code",
   "execution_count": null,
   "metadata": {
    "collapsed": true
   },
   "outputs": [],
   "source": [
    "pq, vi = dss.get_monitor_data()\n",
    "\n",
    "total_loads = np.abs(np.array([l['P1 (kW)'].as_matrix() + l['Q1 (kvar)'].as_matrix() for l in pq])).T\n",
    "total_voltages = np.array([v['V1'].as_matrix() for v in vi])\n",
    "\n",
    "total_load = np.array(np.sum(total_loads, 1), ndmin=2).T\n",
    "v_mean = np.mean(total_voltages, 0)\n",
    "v_min = np.max(total_voltages, 0)\n",
    "v_max = np.min(total_voltages, 0)\n",
    "t = np.arange(total_load.size) / 60.0\n",
    "\n",
    "fig, ax1 = plt.subplots()\n",
    "ax1.plot(t, total_load, 'b')\n",
    "ax1.set_ylabel('power (kVA)', color='b')\n",
    "ax1.tick_params('y', colors='b')\n",
    "ax1.set_xlabel('time (h)')\n",
    "\n",
    "ax2 = ax1.twinx()\n",
    "ax2.plot(t, v_mean, 'r')\n",
    "ax2.plot(t, v_max, 'r--')\n",
    "ax2.plot(t, v_min, 'r:')\n",
    "ax2.set_ylabel('voltage (V)', color='r')\n",
    "ax2.tick_params('y', colors='r')\n",
    "\n",
    "plt.show()"
   ]
  },
  {
   "cell_type": "code",
   "execution_count": null,
   "metadata": {},
   "outputs": [],
   "source": [
    "# Generate initial random load shapes\n",
    "\n",
    "profile_reps = 2\n",
    "t_rep = np.arange(t.size * profile_reps) / 60\n",
    "\n",
    "data_rand = [np.array([np.random.rand(total_load.size * profile_reps) for _ in range(dss.load_count())]).T]\n",
    "data_scale = np.true_divide(np.tile(total_load, [profile_reps, 1]), np.array(np.sum(data_rand[-1], 1), ndmin=2).T)\n",
    "data_rand[-1] = data_rand[-1] * np.tile(data_scale, [1, dss.load_count()])\n",
    "\n",
    "fig, ax1 = plt.subplots()\n",
    "ax1.plot(t_rep, np.sum(data_rand[-1], 1), 'r')\n",
    "ax1.plot(t, total_load, 'b')\n",
    "ax1.set_ylabel('power (kVA)')\n",
    "ax1.set_xlabel('time (h)')\n",
    "ax1.set_title('LV demand for random load shapes')\n",
    "plt.show()"
   ]
  },
  {
   "cell_type": "code",
   "execution_count": null,
   "metadata": {},
   "outputs": [],
   "source": [
    "# Correct each load to reduce network load error\n",
    "iter_max = 10\n",
    "\n",
    "data_rand = [data_rand[0]]\n",
    "\n",
    "i = 0\n",
    "while True:\n",
    "    # Apply and simulate loadshapes\n",
    "    dss.set_load_shapes(data_rand[-1])\n",
    "    dss.solve()\n",
    "    \n",
    "    # Obtain data\n",
    "    pq, vi = dss.get_monitor_data()\n",
    "    data_rand_result = np.abs(np.array([l['P1 (kW)'].as_matrix() + l['Q1 (kvar)'].as_matrix() for l in pq])).T\n",
    "    # Compute error and error statistics\n",
    "    load_error = np.sum(data_rand_result, 1) - np.tile(total_load, [profile_reps, 1]).squeeze()\n",
    "    mean_error = np.mean(load_error)\n",
    "    std_error = np.std(load_error)\n",
    "    \n",
    "    fig, ax1 = plt.subplots()\n",
    "    ax1.plot(t_rep, load_error)\n",
    "    ax1.plot(t_rep, np.ones(load_error.size) * mean_error, 'r')\n",
    "    ax1.plot(t_rep, np.ones(load_error.size) * (mean_error + std_error), 'r--')\n",
    "    ax1.plot(t_rep, np.ones(load_error.size) * (mean_error - std_error), 'r--')\n",
    "    ax1.set_ylabel('power error (kVA)')\n",
    "    ax1.set_xlabel('time (h)')\n",
    "    ax1.set_title('LV demand error after simulating #{}'.format(i+1))\n",
    "    plt.show()\n",
    "    print('mean: {:.6f}; std: {:.6f}'.format(mean_error, std_error))\n",
    "    \n",
    "    # Subtract error\n",
    "    load_delta = np.multiply(data_rand[-1], np.tile(load_error, [dss.load_count(), 1]).T)\n",
    "    load_delta = np.divide(load_delta, np.tile(np.sum(data_rand[-1], 1), [dss.load_count(), 1]).T)\n",
    "    data_rand.append(data_rand[-1] - load_delta)\n",
    "\n",
    "    i += 1\n",
    "    if iter_max < i or (np.round(mean_error + std_error, 4) == 0 and np.round(mean_error - std_error, 4) == 0):\n",
    "        break\n"
   ]
  }
 ],
 "metadata": {
  "kernelspec": {
   "display_name": "Python 3",
   "language": "python",
   "name": "python3"
  },
  "language_info": {
   "codemirror_mode": {
    "name": "ipython",
    "version": 3
   },
   "file_extension": ".py",
   "mimetype": "text/x-python",
   "name": "python",
   "nbconvert_exporter": "python",
   "pygments_lexer": "ipython3",
   "version": "3.6.2"
  }
 },
 "nbformat": 4,
 "nbformat_minor": 1
}
